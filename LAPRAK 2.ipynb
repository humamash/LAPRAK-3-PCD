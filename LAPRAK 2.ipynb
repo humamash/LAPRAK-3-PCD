{
 "cells": [
  {
   "cell_type": "markdown",
   "id": "24f17896-9657-487e-9c04-5f16654ef1bd",
   "metadata": {},
   "source": [
    "## IMPORT LIBRARY"
   ]
  },
  {
   "cell_type": "code",
   "execution_count": null,
   "id": "9f9f8717-eb12-47e3-8a81-3a8b4a9ad3b6",
   "metadata": {},
   "outputs": [],
   "source": [
    "# 202331063_Muhammad Humam Asshiddiq\n",
    "import cv2\n",
    "import numpy as np"
   ]
  },
  {
   "cell_type": "markdown",
   "id": "d969a02e-3c0c-4862-a70a-c2e658bb8be7",
   "metadata": {},
   "source": [
    "## MEMBACA CITRA"
   ]
  },
  {
   "cell_type": "code",
   "execution_count": null,
   "id": "08bbef1d-68a1-4303-b758-20fd32908b6b",
   "metadata": {},
   "outputs": [],
   "source": [
    "# 202331063_Muhammad Humam Asshiddiq\n",
    "citra = cv2.imread('kodok.png')\n",
    "cv2.imshow(\"citra asli\", citra)\n",
    "cv2.waitKey()\n",
    "cv2.destroyAllWindows()"
   ]
  },
  {
   "cell_type": "markdown",
   "id": "116e8049-cc94-44a6-abe4-95b383669d03",
   "metadata": {},
   "source": [
    "## DIMENSI CITRA"
   ]
  },
  {
   "cell_type": "code",
   "execution_count": null,
   "id": "c2bf5518-3510-4668-b21a-6a40b6b58144",
   "metadata": {},
   "outputs": [],
   "source": [
    "# 202331063_Muhammad Humam Asshiddiq\n",
    "print(citra.shape)\n",
    "print(citra.dtype)"
   ]
  },
  {
   "cell_type": "markdown",
   "id": "82650497-3f9a-4acf-8bb9-79029df5cc20",
   "metadata": {},
   "source": [
    "## SPLITTING CITRA RGB/BGR"
   ]
  },
  {
   "cell_type": "code",
   "execution_count": null,
   "id": "91670f08-5d97-45e3-8ab1-e7be0fe4da2d",
   "metadata": {},
   "outputs": [],
   "source": [
    "# 202331063_Muhammad Humam Asshiddiq\n",
    "b = citra[:,:,0]\n",
    "g = citra[:,:,1]\n",
    "r = citra[:,:,2]"
   ]
  },
  {
   "cell_type": "markdown",
   "id": "d3ff1eef-b856-43a4-8771-933862451645",
   "metadata": {},
   "source": [
    "## RGB To GRAYSCALE"
   ]
  },
  {
   "cell_type": "code",
   "execution_count": null,
   "id": "a23ed054-5efc-4cdb-beb9-06dbc2797912",
   "metadata": {},
   "outputs": [],
   "source": [
    "# 202331063_Muhammad Humam Asshiddiq\n",
    "panjang = len(citra)  # menghitung baris\n",
    "lebar = len(citra[0])  # menghitung kolom\n",
    "\n",
    "citra_gray = np.zeros((panjang, lebar))\n",
    "\n",
    "for i in range(panjang):\n",
    "    for j in range(lebar):\n",
    "        citra_gray[i,j] = 0.2989 * r[i,j] + 0.587 * g[i,j] + 0.1141 * b[i,j]  # merah = 29,89% ; hijau = 58,7% ; biru = 11,41%\n",
    "\n",
    "citra_gray = citra_gray.astype(np.uint8)\n",
    "\n",
    "cv2.imshow(\"citra grayscale\", citra_gray)\n",
    "cv2.waitKey()\n",
    "cv2.destroyAllWindows()"
   ]
  },
  {
   "cell_type": "code",
   "execution_count": null,
   "id": "8694b0d8-28bb-4d69-aa6d-ea3a800ed281",
   "metadata": {},
   "outputs": [],
   "source": [
    "# 202331063_Muhammad Humam Asshiddiq\n",
    "print(citra)"
   ]
  },
  {
   "cell_type": "code",
   "execution_count": null,
   "id": "66725f4d-f704-469d-9e7a-6b36b6feee1c",
   "metadata": {},
   "outputs": [],
   "source": [
    "# 202331063_Muhammad Humam Asshiddiq\n",
    "print(citra_gray)"
   ]
  },
  {
   "cell_type": "markdown",
   "id": "a812686b-1d12-4fff-8bdd-c6f62782e606",
   "metadata": {},
   "source": [
    "## GRAYSCALE To BINARY"
   ]
  },
  {
   "cell_type": "code",
   "execution_count": null,
   "id": "3d3f3800-5e71-4ff4-a2de-58ae4bd00eef",
   "metadata": {},
   "outputs": [],
   "source": [
    "# 202331063_Muhammad Humam Asshiddiq\n",
    "panjang = len(citra)  # menghitung baris\n",
    "lebar = len(citra[0])  # menghitung kolom\n",
    "\n",
    "ambang = 170\n",
    "\n",
    "citra_biner = np.zeros((panjang, lebar))\n",
    "\n",
    "for i in range(panjang):\n",
    "    for j in range(lebar):\n",
    "        if citra_gray[i,j] >= ambang:\n",
    "            citra_biner[i,j] = 1  # putih\n",
    "        else:\n",
    "            citra_biner[i,j] = 0  # hitam\n",
    "\n",
    "cv2.imshow(\"citra binary\", citra_biner)\n",
    "cv2.waitKey()\n",
    "cv2.destroyAllWindows()"
   ]
  },
  {
   "cell_type": "code",
   "execution_count": null,
   "id": "ce3ca516-e762-47f8-9aa2-72cea5cf9ddb",
   "metadata": {},
   "outputs": [],
   "source": [
    "# 202331063_Muhammad Humam Asshiddiq\n",
    "print(citra)"
   ]
  },
  {
   "cell_type": "code",
   "execution_count": null,
   "id": "c26999b1-b236-4781-8725-38b21fb2f077",
   "metadata": {},
   "outputs": [],
   "source": [
    "# 202331063_Muhammad Humam Asshiddiq\n",
    "print(citra_biner)"
   ]
  },
  {
   "cell_type": "code",
   "execution_count": null,
   "id": "15ffc0c3-504a-4ace-ae79-f35611706ca4",
   "metadata": {},
   "outputs": [],
   "source": [
    "# 202331063_Muhammad Humam Asshiddiq\n",
    "print(citra_biner[50,50])"
   ]
  },
  {
   "cell_type": "code",
   "execution_count": null,
   "id": "d2b36d19-9c9c-41c2-9b3e-da7ebe343dbd",
   "metadata": {},
   "outputs": [],
   "source": []
  }
 ],
 "metadata": {
  "kernelspec": {
   "display_name": "Python [conda env:base] *",
   "language": "python",
   "name": "conda-base-py"
  },
  "language_info": {
   "codemirror_mode": {
    "name": "ipython",
    "version": 3
   },
   "file_extension": ".py",
   "mimetype": "text/x-python",
   "name": "python",
   "nbconvert_exporter": "python",
   "pygments_lexer": "ipython3",
   "version": "3.12.7"
  }
 },
 "nbformat": 4,
 "nbformat_minor": 5
}
